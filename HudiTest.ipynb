{
 "cells": [
  {
   "cell_type": "markdown",
   "metadata": {
    "application/vnd.databricks.v1+cell": {
     "cellMetadata": {},
     "inputWidgets": {},
     "nuid": "a11311f2-6b08-4ac3-bd9c-ef34cc6a7f29",
     "showTitle": false,
     "title": ""
    }
   },
   "source": [
    "## Imports and variables confguration\n",
    "\n",
    "As we have already updated the compute with the Hudi-Spark bundle jar, its automatically added to the classpath. So you can start reading and writing Hudi tables as you would in any other Spark environment."
   ]
  },
  {
   "cell_type": "code",
   "execution_count": 0,
   "metadata": {
    "application/vnd.databricks.v1+cell": {
     "cellMetadata": {
      "byteLimit": 2048000,
      "rowLimit": 10000
     },
     "inputWidgets": {},
     "nuid": "f1538266-e282-43d8-9c06-15fba894a36d",
     "showTitle": false,
     "title": ""
    }
   },
   "outputs": [],
   "source": [
    "# pyspark\n",
    "from pyspark.sql.functions import lit, col\n",
    "\n",
    "tableName = \"trips_table\"\n",
    "basePath = \"file:///tmp/trips_table\""
   ]
  },
  {
   "cell_type": "markdown",
   "metadata": {
    "application/vnd.databricks.v1+cell": {
     "cellMetadata": {},
     "inputWidgets": {},
     "nuid": "e30f1775-e718-4a7b-9bed-7f7763f7da18",
     "showTitle": false,
     "title": ""
    }
   },
   "source": [
    "\n",
    "### Creating dataframe"
   ]
  },
  {
   "cell_type": "code",
   "execution_count": 0,
   "metadata": {
    "application/vnd.databricks.v1+cell": {
     "cellMetadata": {
      "byteLimit": 2048000,
      "rowLimit": 10000
     },
     "inputWidgets": {},
     "nuid": "99e602d6-bf6b-406e-977e-e1870b130f85",
     "showTitle": false,
     "title": ""
    }
   },
   "outputs": [],
   "source": [
    "columns = [\"ts\",\"uuid\",\"rider\",\"driver\",\"fare\",\"city\"]\n",
    "data =[(1695159649087,\"334e26e9-8355-45cc-97c6-c31daf0df330\",\"rider-A\",\"driver-K\",19.10,\"san_francisco\"),\n",
    "       (1695091554788,\"e96c4396-3fad-413a-a942-4cb36106d721\",\"rider-C\",\"driver-M\",27.70 ,\"san_francisco\"),\n",
    "       (1695046462179,\"9909a8b1-2d15-4d3d-8ec9-efc48c536a00\",\"rider-D\",\"driver-L\",33.90 ,\"san_francisco\"),\n",
    "       (1695516137016,\"e3cf430c-889d-4015-bc98-59bdce1e530c\",\"rider-F\",\"driver-P\",34.15,\"sao_paulo\"),\n",
    "       (1695115999911,\"c8abbe79-8d89-47ea-b4ce-4d224bae5bfa\",\"rider-J\",\"driver-T\",17.85,\"chennai\")]\n",
    "inserts = spark.createDataFrame(data).toDF(*columns)"
   ]
  },
  {
   "cell_type": "code",
   "execution_count": 0,
   "metadata": {
    "application/vnd.databricks.v1+cell": {
     "cellMetadata": {
      "byteLimit": 2048000,
      "rowLimit": 10000
     },
     "inputWidgets": {},
     "nuid": "ca2c8381-d146-4516-a188-48f483015d20",
     "showTitle": false,
     "title": ""
    }
   },
   "outputs": [
    {
     "output_type": "stream",
     "name": "stdout",
     "output_type": "stream",
     "text": [
      "+-------------+--------------------+-------+--------+-----+-------------+\n|           ts|                uuid|  rider|  driver| fare|         city|\n+-------------+--------------------+-------+--------+-----+-------------+\n|1695159649087|334e26e9-8355-45c...|rider-A|driver-K| 19.1|san_francisco|\n|1695091554788|e96c4396-3fad-413...|rider-C|driver-M| 27.7|san_francisco|\n|1695046462179|9909a8b1-2d15-4d3...|rider-D|driver-L| 33.9|san_francisco|\n|1695516137016|e3cf430c-889d-401...|rider-F|driver-P|34.15|    sao_paulo|\n|1695115999911|c8abbe79-8d89-47e...|rider-J|driver-T|17.85|      chennai|\n+-------------+--------------------+-------+--------+-----+-------------+\n\n"
     ]
    }
   ],
   "source": [
    "inserts.show()"
   ]
  },
  {
   "cell_type": "markdown",
   "metadata": {
    "application/vnd.databricks.v1+cell": {
     "cellMetadata": {},
     "inputWidgets": {},
     "nuid": "239068da-2302-4054-97a7-2506dff3127c",
     "showTitle": false,
     "title": ""
    }
   },
   "source": [
    "### Saving the table as Hudi table"
   ]
  },
  {
   "cell_type": "code",
   "execution_count": 0,
   "metadata": {
    "application/vnd.databricks.v1+cell": {
     "cellMetadata": {
      "byteLimit": 2048000,
      "rowLimit": 10000
     },
     "inputWidgets": {},
     "nuid": "7628822e-72cf-4b80-92ee-cc51612e7cc5",
     "showTitle": false,
     "title": ""
    }
   },
   "outputs": [],
   "source": [
    "hudi_options = {\n",
    "    'hoodie.table.name': tableName\n",
    "}"
   ]
  },
  {
   "cell_type": "code",
   "execution_count": 0,
   "metadata": {
    "application/vnd.databricks.v1+cell": {
     "cellMetadata": {
      "byteLimit": 2048000,
      "rowLimit": 10000
     },
     "inputWidgets": {},
     "nuid": "1d8d021d-738d-4221-bdf0-e4be676aa7df",
     "showTitle": false,
     "title": ""
    }
   },
   "outputs": [],
   "source": [
    "inserts.write.format(\"hudi\"). \\\n",
    "    options(**hudi_options). \\\n",
    "    mode(\"overwrite\"). \\\n",
    "    save(basePath)"
   ]
  },
  {
   "cell_type": "markdown",
   "metadata": {
    "application/vnd.databricks.v1+cell": {
     "cellMetadata": {},
     "inputWidgets": {},
     "nuid": "5f91d1f7-c359-4de7-8f38-9f9ac4ec60c0",
     "showTitle": false,
     "title": ""
    }
   },
   "source": [
    "### Reading the table\n",
    "\n",
    "Note: Pay close attention to `hoodie.file.index.enable` being set to `false`, this enables use of the spark file index implementation for Hudi, that speeds up listing of large tables and is mandatory if you're using Databricks to read Hudi tables."
   ]
  },
  {
   "cell_type": "code",
   "execution_count": 0,
   "metadata": {
    "application/vnd.databricks.v1+cell": {
     "cellMetadata": {
      "byteLimit": 2048000,
      "rowLimit": 10000
     },
     "inputWidgets": {},
     "nuid": "2dbe9d23-6c9e-42fe-8458-5dad70c3bed3",
     "showTitle": false,
     "title": ""
    }
   },
   "outputs": [],
   "source": [
    "tripsDF = spark.read.format(\"hudi\").option(\"hoodie.file.index.enable\", \"false\").load(basePath)"
   ]
  },
  {
   "cell_type": "code",
   "execution_count": 0,
   "metadata": {
    "application/vnd.databricks.v1+cell": {
     "cellMetadata": {
      "byteLimit": 2048000,
      "rowLimit": 10000
     },
     "inputWidgets": {},
     "nuid": "fd5c74b0-a1a0-43ff-9efe-8191002c9316",
     "showTitle": false,
     "title": ""
    }
   },
   "outputs": [
    {
     "output_type": "stream",
     "name": "stdout",
     "output_type": "stream",
     "text": [
      "+-------------------+--------------------+--------------------+----------------------+--------------------+-------------+--------------------+-------+--------+-----+-------------+\n|_hoodie_commit_time|_hoodie_commit_seqno|  _hoodie_record_key|_hoodie_partition_path|   _hoodie_file_name|           ts|                uuid|  rider|  driver| fare|         city|\n+-------------------+--------------------+--------------------+----------------------+--------------------+-------------+--------------------+-------+--------+-----+-------------+\n|  20240514185003982|20240514185003982...|20240514185003982...|                      |08452ccd-a94a-4c7...|1695046462179|9909a8b1-2d15-4d3...|rider-D|driver-L| 33.9|san_francisco|\n|  20240514185003982|20240514185003982...|20240514185003982...|                      |11aaa299-e866-4ce...|1695091554788|e96c4396-3fad-413...|rider-C|driver-M| 27.7|san_francisco|\n|  20240514185003982|20240514185003982...|20240514185003982...|                      |f230c189-9295-45b...|1695159649087|334e26e9-8355-45c...|rider-A|driver-K| 19.1|san_francisco|\n|  20240514185003982|20240514185003982...|20240514185003982...|                      |c7a0f682-c3dd-481...|1695516137016|e3cf430c-889d-401...|rider-F|driver-P|34.15|    sao_paulo|\n|  20240514185003982|20240514185003982...|20240514185003982...|                      |9b52facb-a6a3-4e4...|1695115999911|c8abbe79-8d89-47e...|rider-J|driver-T|17.85|      chennai|\n+-------------------+--------------------+--------------------+----------------------+--------------------+-------------+--------------------+-------+--------+-----+-------------+\n\n"
     ]
    }
   ],
   "source": [
    "tripsDF.show()"
   ]
  },
  {
   "cell_type": "code",
   "execution_count": 0,
   "metadata": {
    "application/vnd.databricks.v1+cell": {
     "cellMetadata": {
      "byteLimit": 2048000,
      "rowLimit": 10000
     },
     "inputWidgets": {},
     "nuid": "e5df33e0-bcee-49f9-8558-25225fc7ce62",
     "showTitle": false,
     "title": ""
    }
   },
   "outputs": [],
   "source": [
    "tripsDF.createOrReplaceTempView(\"trips_table\")"
   ]
  },
  {
   "cell_type": "code",
   "execution_count": 0,
   "metadata": {
    "application/vnd.databricks.v1+cell": {
     "cellMetadata": {
      "byteLimit": 2048000,
      "implicitDf": true,
      "rowLimit": 10000
     },
     "inputWidgets": {},
     "nuid": "897e8809-af64-4570-b852-f806a107a9fc",
     "showTitle": false,
     "title": ""
    }
   },
   "outputs": [
    {
     "output_type": "display_data",
     "data": {
      "text/html": [
       "<style scoped>\n",
       "  .table-result-container {\n",
       "    max-height: 300px;\n",
       "    overflow: auto;\n",
       "  }\n",
       "  table, th, td {\n",
       "    border: 1px solid black;\n",
       "    border-collapse: collapse;\n",
       "  }\n",
       "  th, td {\n",
       "    padding: 5px;\n",
       "  }\n",
       "  th {\n",
       "    text-align: left;\n",
       "  }\n",
       "</style><div class='table-result-container'><table class='table-result'><thead style='background-color: white'><tr><th>uuid</th><th>fare</th><th>ts</th><th>rider</th><th>driver</th><th>city</th></tr></thead><tbody><tr><td>9909a8b1-2d15-4d3d-8ec9-efc48c536a00</td><td>33.9</td><td>1695046462179</td><td>rider-D</td><td>driver-L</td><td>san_francisco</td></tr><tr><td>e96c4396-3fad-413a-a942-4cb36106d721</td><td>27.7</td><td>1695091554788</td><td>rider-C</td><td>driver-M</td><td>san_francisco</td></tr><tr><td>e3cf430c-889d-4015-bc98-59bdce1e530c</td><td>34.15</td><td>1695516137016</td><td>rider-F</td><td>driver-P</td><td>sao_paulo</td></tr></tbody></table></div>"
      ]
     },
     "metadata": {
      "application/vnd.databricks.v1+output": {
       "addedWidgets": {},
       "aggData": [],
       "aggError": "",
       "aggOverflow": false,
       "aggSchema": [],
       "aggSeriesLimitReached": false,
       "aggType": "",
       "arguments": {},
       "columnCustomDisplayInfos": {},
       "data": [
        [
         "9909a8b1-2d15-4d3d-8ec9-efc48c536a00",
         33.9,
         1695046462179,
         "rider-D",
         "driver-L",
         "san_francisco"
        ],
        [
         "e96c4396-3fad-413a-a942-4cb36106d721",
         27.7,
         1695091554788,
         "rider-C",
         "driver-M",
         "san_francisco"
        ],
        [
         "e3cf430c-889d-4015-bc98-59bdce1e530c",
         34.15,
         1695516137016,
         "rider-F",
         "driver-P",
         "sao_paulo"
        ]
       ],
       "datasetInfos": [],
       "dbfsResultPath": null,
       "isJsonSchema": true,
       "metadata": {
        "dataframeName": "_sqldf",
        "executionCount": 43
       },
       "overflow": false,
       "plotOptions": {
        "customPlotOptions": {},
        "displayType": "table",
        "pivotAggregation": null,
        "pivotColumns": null,
        "xColumns": null,
        "yColumns": null
       },
       "removedWidgets": [],
       "schema": [
        {
         "metadata": "{}",
         "name": "uuid",
         "type": "\"string\""
        },
        {
         "metadata": "{}",
         "name": "fare",
         "type": "\"double\""
        },
        {
         "metadata": "{}",
         "name": "ts",
         "type": "\"long\""
        },
        {
         "metadata": "{}",
         "name": "rider",
         "type": "\"string\""
        },
        {
         "metadata": "{}",
         "name": "driver",
         "type": "\"string\""
        },
        {
         "metadata": "{}",
         "name": "city",
         "type": "\"string\""
        }
       ],
       "type": "table"
      }
     },
     "output_type": "display_data"
    }
   ],
   "source": [
    "%sql\n",
    "SELECT uuid, fare, ts, rider, driver, city FROM  trips_table WHERE fare > 20.0"
   ]
  },
  {
   "cell_type": "code",
   "execution_count": 0,
   "metadata": {
    "application/vnd.databricks.v1+cell": {
     "cellMetadata": {},
     "inputWidgets": {},
     "nuid": "39d116d3-f7db-451b-80e6-be5c8ca8114d",
     "showTitle": false,
     "title": ""
    }
   },
   "outputs": [],
   "source": []
  }
 ],
 "metadata": {
  "application/vnd.databricks.v1+notebook": {
   "dashboards": [],
   "environmentMetadata": null,
   "language": "python",
   "notebookMetadata": {
    "mostRecentlyExecutedCommandWithImplicitDF": {
     "commandId": 2420683017736046,
     "dataframes": [
      "_sqldf"
     ]
    },
    "pythonIndentUnit": 4
   },
   "notebookName": "HudiTest",
   "widgets": {}
  }
 },
 "nbformat": 4,
 "nbformat_minor": 0
}
